{
 "cells": [
  {
   "cell_type": "code",
   "execution_count": 156,
   "metadata": {},
   "outputs": [],
   "source": [
    "\n",
    "\n",
    "\n",
    "\n",
    "#im.putpixel((10,20),250)\n",
    "pix=im.load()\n",
    "#pix.size()"
   ]
  },
  {
   "cell_type": "code",
   "execution_count": 70,
   "metadata": {},
   "outputs": [
    {
     "data": {
      "text/plain": [
       "(496, 512)"
      ]
     },
     "execution_count": 70,
     "metadata": {},
     "output_type": "execute_result"
    }
   ],
   "source": [
    "im.size"
   ]
  },
  {
   "cell_type": "code",
   "execution_count": 217,
   "metadata": {},
   "outputs": [],
   "source": [
    "from PIL import Image\n",
    "import numpy as np\n",
    "import math\n",
    "\n",
    "\n",
    "def imgtonp(path):\n",
    "    img=Image.open(path)\n",
    "    pix=img.load()\n",
    "    img_np=np.array([[0]*img.size[1]]*img.size[0],dtype=float)\n",
    "    for i in range(img.size[0]):\n",
    "        for j in range(img.size[1]):\n",
    "            img_np[i][j]=pix[i,j]\n",
    "    return img_np\n",
    "def intensitynormalisation(img):\n",
    "    #im.putpixel((10,20),250)\n",
    "    mx=0\n",
    "    mn=255\n",
    "    for i in range(img.shape[0]):\n",
    "        for j in range(img.shape[1]):\n",
    "            mx=max(pix[i,j],mx)\n",
    "            mn=min(pix[i,j],mn)\n",
    "    normal_img=np.array([[0]*img.shape[1]]*img.shape[0],dtype=float)\n",
    "    for i in range(img.shape[0]):\n",
    "        for j in range(img.shape[1]):\n",
    "            normal_img[i][j]=(pix[i,j]-mn)/(mx-mn)\n",
    "            #print(i,j,normal_img[i][j])\n",
    "    return (normal_img,mx,mn)\n",
    "\n",
    "def raleightransformpoint(x,sigma):\n",
    "    return x*math.exp(-1*(x**(2))/(2*sigma**2))/(sigma**2)\n",
    "def raleightransformimg(img,sigma):\n",
    "    trans_img=np.array([[0]*img.shape[1]]*img.shape[0],dtype=float)\n",
    "    for i in range(img.shape[0]):\n",
    "        for j in range(img.shape[1]):\n",
    "            trans_img[i][j]=raleightransformpoint(img[i][j],sigma)\n",
    "    return trans_img\n",
    "\n",
    "        \n",
    "def parameters(a):\n",
    "    mean=np.mean(a)\n",
    "    (m,n)=a.shape\n",
    "    sqr=0\n",
    "    pow4=0\n",
    "    for i in range(0,m):\n",
    "        for j in range(0,n):\n",
    "            sqr+=pow(a[i][j]-mean,2)\n",
    "            pow4+=pow(a[i][j]-mean,4)\n",
    "    stddev=pow(sqr/(m*n),0.5)\n",
    "    k=(m*n*pow4)/pow(sqr,2)\n",
    "    return(mean,stddev,k)\n",
    "def neuralinputs(path,):\n",
    "    im = Image.open(path)\n",
    "    return parameters()\n",
    "    \n",
    "            \n",
    "    #print(np.array(normal_img)[30][50],normal_img[30][50])\n",
    "    "
   ]
  },
  {
   "cell_type": "code",
   "execution_count": 205,
   "metadata": {},
   "outputs": [
    {
     "data": {
      "text/plain": [
       "'RABBANI DATASET/AMD Part1/AMD (1).E2E/2- 25- 2017 9- 10- 42 PM/Image 9.TIFF'"
      ]
     },
     "execution_count": 205,
     "metadata": {},
     "output_type": "execute_result"
    }
   ],
   "source": [
    "'RABBANI DATASET/AMD Part1/AMD (1).E2E/2- 25- 2017 9- 10- 42 PM/Image 9.TIFF'"
   ]
  },
  {
   "cell_type": "code",
   "execution_count": null,
   "metadata": {},
   "outputs": [],
   "source": [
    "\n",
    "            "
   ]
  },
  {
   "cell_type": "code",
   "execution_count": 201,
   "metadata": {},
   "outputs": [
    {
     "data": {
      "text/plain": [
       "74"
      ]
     },
     "execution_count": 201,
     "metadata": {},
     "output_type": "execute_result"
    }
   ],
   "source": [
    "pix[200,300]"
   ]
  },
  {
   "cell_type": "code",
   "execution_count": 197,
   "metadata": {},
   "outputs": [
    {
     "ename": "IndexError",
     "evalue": "tuple index out of range",
     "output_type": "error",
     "traceback": [
      "\u001b[0;31m---------------------------------------------------------------------------\u001b[0m",
      "\u001b[0;31mIndexError\u001b[0m                                Traceback (most recent call last)",
      "\u001b[0;32m<ipython-input-197-53e296be9a1e>\u001b[0m in \u001b[0;36m<module>\u001b[0;34m()\u001b[0m\n\u001b[0;32m----> 1\u001b[0;31m \u001b[0mintensitynormalisation\u001b[0m\u001b[0;34m(\u001b[0m\u001b[0mim\u001b[0m\u001b[0;34m)\u001b[0m\u001b[0;34m[\u001b[0m\u001b[0;36m200\u001b[0m\u001b[0;34m]\u001b[0m\u001b[0;34m[\u001b[0m\u001b[0;36m300\u001b[0m\u001b[0;34m]\u001b[0m\u001b[0;34m\u001b[0m\u001b[0m\n\u001b[0m",
      "\u001b[0;31mIndexError\u001b[0m: tuple index out of range"
     ]
    }
   ],
   "source": [
    "intensitynormalisation(im)[200][300]\n"
   ]
  },
  {
   "cell_type": "code",
   "execution_count": 293,
   "metadata": {},
   "outputs": [
    {
     "data": {
      "text/plain": [
       "[[5], [], []]"
      ]
     },
     "execution_count": 293,
     "metadata": {},
     "output_type": "execute_result"
    }
   ],
   "source": [
    "a=[[] for _ in range(3)]\n",
    "a[0].append(5)\n",
    "a"
   ]
  },
  {
   "cell_type": "code",
   "execution_count": 294,
   "metadata": {},
   "outputs": [],
   "source": [
    "import os\n",
    "def filldata(path):\n",
    "    features=3\n",
    "    y=[]\n",
    "    x=[[] for _ in range(features+1)]\n",
    "    for i in os.listdir(path):\n",
    "        path_img=path+i\n",
    "        for sigma in range(8,208):\n",
    "            for index,i in enumerate(parameters(raleightransformimg(intensitynormalisation(path_img)[0],sigma))):\n",
    "                x[index].append(i)\n",
    "            y.append(sigma)\n",
    "\n",
    "            \n",
    "            \n",
    "        \n",
    "        "
   ]
  },
  {
   "cell_type": "code",
   "execution_count": 288,
   "metadata": {},
   "outputs": [
    {
     "data": {
      "text/plain": [
       "['Image 1.TIFF',\n",
       " 'Image 6.TIFF',\n",
       " 'Image 10.TIFF',\n",
       " 'Image 2.TIFF',\n",
       " 'Image 25.TIFF',\n",
       " 'Image 18.TIFF',\n",
       " 'Image 11.TIFF',\n",
       " 'Image 3.TIFF',\n",
       " 'Image 17.TIFF',\n",
       " 'Image 9.TIFF',\n",
       " 'Image 8.TIFF',\n",
       " 'Image 4.TIFF',\n",
       " 'Image 12.TIFF',\n",
       " 'Image 16.TIFF',\n",
       " 'Image 22.TIFF',\n",
       " 'Image 5.TIFF',\n",
       " 'Image 19.TIFF',\n",
       " 'Image 20.TIFF',\n",
       " 'Image 24.TIFF',\n",
       " 'Image 14.TIFF',\n",
       " 'Image 15.TIFF',\n",
       " 'Image 0.TIFF',\n",
       " 'Image 13.TIFF',\n",
       " 'Image 21.TIFF',\n",
       " 'Image 23.TIFF',\n",
       " 'Image 7.TIFF']"
      ]
     },
     "execution_count": 288,
     "metadata": {},
     "output_type": "execute_result"
    }
   ],
   "source": [
    "import os\n",
    "os.listdir('RABBANI DATASET/AMD Part1/AMD (1).E2E/2- 25- 2017 9- 10- 42 PM')"
   ]
  },
  {
   "cell_type": "code",
   "execution_count": 181,
   "metadata": {},
   "outputs": [
    {
     "data": {
      "text/plain": [
       "(0.0159926795083994, 0.02047050136408245, 4.023091286050631)"
      ]
     },
     "execution_count": 181,
     "metadata": {},
     "output_type": "execute_result"
    }
   ],
   "source": [
    "parameters(raleightransformimg(intensitynormalisation(im)[0],3))"
   ]
  },
  {
   "cell_type": "code",
   "execution_count": 286,
   "metadata": {},
   "outputs": [
    {
     "name": "stdout",
     "output_type": "stream",
     "text": [
      "0\n",
      "0\n",
      "0\n",
      "0\n",
      "0\n",
      "0\n",
      "0\n",
      "0\n",
      "0\n",
      "0\n",
      "0\n",
      "0\n",
      "0\n",
      "0\n",
      "0\n",
      "0\n",
      "0\n",
      "0\n",
      "0\n",
      "0\n",
      "0\n",
      "0\n",
      "0\n",
      "0\n",
      "0\n",
      "0\n",
      "0\n",
      "0\n",
      "0\n",
      "0\n",
      "0\n",
      "0\n",
      "0\n",
      "0\n",
      "0\n",
      "0\n",
      "0\n",
      "0\n",
      "0\n",
      "0\n",
      "0\n",
      "0\n",
      "0\n",
      "0\n",
      "0\n",
      "0\n",
      "0\n",
      "0\n",
      "0\n",
      "0\n",
      "0\n",
      "0\n",
      "0\n",
      "0\n",
      "0\n",
      "0\n",
      "0\n",
      "0\n",
      "0\n",
      "0\n",
      "0\n",
      "0\n",
      "0\n",
      "0\n",
      "0\n",
      "0\n",
      "0\n",
      "0\n",
      "0\n",
      "0\n",
      "0\n",
      "0\n",
      "0\n",
      "0\n",
      "0\n",
      "0\n",
      "0\n",
      "0\n",
      "0\n",
      "0\n",
      "0\n",
      "0\n",
      "0\n",
      "0\n",
      "0\n",
      "0\n",
      "0\n",
      "0\n",
      "0\n",
      "0\n",
      "0\n",
      "0\n",
      "0\n",
      "0\n",
      "0\n",
      "0\n",
      "0\n",
      "0\n",
      "0\n",
      "0\n",
      "0\n",
      "0\n",
      "0\n",
      "0\n",
      "0\n",
      "0\n",
      "0\n",
      "0\n",
      "0\n",
      "0\n",
      "0\n",
      "0\n",
      "0\n",
      "0\n",
      "0\n",
      "0\n",
      "0\n",
      "0\n",
      "0\n",
      "0\n",
      "0\n",
      "0\n",
      "0\n",
      "0\n",
      "0\n",
      "0\n",
      "0\n",
      "0\n",
      "0\n",
      "0\n",
      "0\n",
      "0\n",
      "0\n",
      "0\n",
      "0\n",
      "0\n",
      "0\n",
      "0\n",
      "0\n",
      "0\n",
      "0\n",
      "0\n",
      "0\n",
      "0\n",
      "0\n",
      "0\n",
      "0\n",
      "0\n",
      "0\n",
      "0\n",
      "0\n",
      "0\n",
      "0\n",
      "0\n",
      "0\n",
      "0\n",
      "0\n",
      "0\n",
      "0\n",
      "0\n",
      "0\n",
      "0\n",
      "0\n",
      "0\n",
      "0\n",
      "0\n",
      "0\n",
      "0\n",
      "0\n",
      "0\n",
      "0\n",
      "0\n",
      "0\n",
      "0\n",
      "0\n",
      "0\n",
      "0\n",
      "0\n",
      "0\n",
      "0\n",
      "0\n",
      "0\n",
      "0\n",
      "0\n",
      "0\n",
      "0\n",
      "0\n",
      "0\n",
      "0\n",
      "0\n",
      "0\n",
      "0\n",
      "0\n",
      "0\n",
      "0\n",
      "0\n",
      "0\n",
      "0\n",
      "0\n",
      "0\n"
     ]
    }
   ],
   "source": [
    "path='RABBANI DATASET/AMD Part1/AMD (1).E2E/2- 25- 2017 9- 10- 42 PM/Image 11.TIFF'\n",
    "img,mx,mn=intensitynormalisation(imgtonp(path))\n",
    "for i in range(200):\n",
    "    trans=raleightransformimg(img,3)\n",
    "    trans_norm=intensitynormalisation(trans)\n",
    "\n",
    "#trans=trans*(mx-mn)+mn\n",
    "#Image.fromarray(np.uint8(trans_norm[0]*255),'L').show()\n",
    "#Image.fromarray(np.uint8(img*(mx-mn)+mn),'L').show()\n",
    "    cnt=0\n",
    "    for i in range(img.shape[0]):\n",
    "        for j in range(img.shape[1]):\n",
    "            if img[i][j]!=trans_norm[0][i][j]:\n",
    "                cnt=cnt+1\n",
    "    trans_norm[0][200][300]\n",
    "    print(cnt)"
   ]
  },
  {
   "cell_type": "code",
   "execution_count": 283,
   "metadata": {},
   "outputs": [
    {
     "data": {
      "text/plain": [
       "1.0"
      ]
     },
     "execution_count": 283,
     "metadata": {},
     "output_type": "execute_result"
    }
   ],
   "source": [
    "np.max(img)"
   ]
  },
  {
   "cell_type": "code",
   "execution_count": null,
   "metadata": {
    "collapsed": true
   },
   "outputs": [],
   "source": [
    "intensitynormalisation(imgtonp(path)"
   ]
  },
  {
   "cell_type": "code",
   "execution_count": null,
   "metadata": {
    "collapsed": true
   },
   "outputs": [],
   "source": [
    "img"
   ]
  }
 ],
 "metadata": {
  "kernelspec": {
   "display_name": "Python 3",
   "language": "python",
   "name": "python3"
  },
  "language_info": {
   "codemirror_mode": {
    "name": "ipython",
    "version": 3
   },
   "file_extension": ".py",
   "mimetype": "text/x-python",
   "name": "python",
   "nbconvert_exporter": "python",
   "pygments_lexer": "ipython3",
   "version": "3.6.3"
  }
 },
 "nbformat": 4,
 "nbformat_minor": 2
}
